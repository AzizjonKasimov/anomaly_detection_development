{
 "cells": [
  {
   "cell_type": "code",
   "execution_count": 1,
   "metadata": {},
   "outputs": [],
   "source": [
    "from model_training_files.data_preprocessing import Data_Loader, Data_Preprocessing, save_data"
   ]
  },
  {
   "cell_type": "markdown",
   "metadata": {},
   "source": [
    "## Read the files"
   ]
  },
  {
   "cell_type": "code",
   "execution_count": 2,
   "metadata": {},
   "outputs": [
    {
     "data": {
      "text/html": [
       "<div>\n",
       "<style scoped>\n",
       "    .dataframe tbody tr th:only-of-type {\n",
       "        vertical-align: middle;\n",
       "    }\n",
       "\n",
       "    .dataframe tbody tr th {\n",
       "        vertical-align: top;\n",
       "    }\n",
       "\n",
       "    .dataframe thead th {\n",
       "        text-align: right;\n",
       "    }\n",
       "</style>\n",
       "<table border=\"1\" class=\"dataframe\">\n",
       "  <thead>\n",
       "    <tr style=\"text-align: right;\">\n",
       "      <th></th>\n",
       "      <th>timestamp</th>\n",
       "      <th>r_phase_current</th>\n",
       "      <th>s_phase_current</th>\n",
       "      <th>t_phase_current</th>\n",
       "      <th>pv_current</th>\n",
       "      <th>generated_power</th>\n",
       "      <th>horizontal_solar_radiation</th>\n",
       "      <th>vertical_solar_radiation</th>\n",
       "      <th>module_temperature</th>\n",
       "      <th>outdoor_temperature</th>\n",
       "      <th>pv_voltage</th>\n",
       "      <th>rs_line_voltage</th>\n",
       "      <th>st_line_voltage</th>\n",
       "      <th>tr_line_voltage</th>\n",
       "      <th>pv_generated_power</th>\n",
       "    </tr>\n",
       "  </thead>\n",
       "  <tbody>\n",
       "    <tr>\n",
       "      <th>0</th>\n",
       "      <td>2023-09-08 06:01:20</td>\n",
       "      <td>1.7</td>\n",
       "      <td>1.5</td>\n",
       "      <td>1.9</td>\n",
       "      <td>0.0</td>\n",
       "      <td>0.0</td>\n",
       "      <td>0.0</td>\n",
       "      <td>0.0</td>\n",
       "      <td>12.9</td>\n",
       "      <td>15.0</td>\n",
       "      <td>475.0</td>\n",
       "      <td>381.0</td>\n",
       "      <td>382.0</td>\n",
       "      <td>385.0</td>\n",
       "      <td>0.1</td>\n",
       "    </tr>\n",
       "    <tr>\n",
       "      <th>1</th>\n",
       "      <td>2023-09-08 06:01:30</td>\n",
       "      <td>1.7</td>\n",
       "      <td>1.5</td>\n",
       "      <td>1.9</td>\n",
       "      <td>0.0</td>\n",
       "      <td>0.0</td>\n",
       "      <td>0.0</td>\n",
       "      <td>0.0</td>\n",
       "      <td>13.0</td>\n",
       "      <td>15.0</td>\n",
       "      <td>478.0</td>\n",
       "      <td>382.0</td>\n",
       "      <td>382.0</td>\n",
       "      <td>385.0</td>\n",
       "      <td>0.1</td>\n",
       "    </tr>\n",
       "  </tbody>\n",
       "</table>\n",
       "</div>"
      ],
      "text/plain": [
       "            timestamp  r_phase_current  s_phase_current  t_phase_current  \\\n",
       "0 2023-09-08 06:01:20              1.7              1.5              1.9   \n",
       "1 2023-09-08 06:01:30              1.7              1.5              1.9   \n",
       "\n",
       "   pv_current  generated_power  horizontal_solar_radiation  \\\n",
       "0         0.0              0.0                         0.0   \n",
       "1         0.0              0.0                         0.0   \n",
       "\n",
       "   vertical_solar_radiation  module_temperature  outdoor_temperature  \\\n",
       "0                       0.0                12.9                 15.0   \n",
       "1                       0.0                13.0                 15.0   \n",
       "\n",
       "   pv_voltage  rs_line_voltage  st_line_voltage  tr_line_voltage  \\\n",
       "0       475.0            381.0            382.0            385.0   \n",
       "1       478.0            382.0            382.0            385.0   \n",
       "\n",
       "   pv_generated_power  \n",
       "0                 0.1  \n",
       "1                 0.1  "
      ]
     },
     "execution_count": 2,
     "metadata": {},
     "output_type": "execute_result"
    }
   ],
   "source": [
    "dasiv01 = 'DASIV01.csv'\n",
    "dasiv02 = 'DASIV02.csv'\n",
    "dasiv03 = 'DASIV03.csv'\n",
    "dasiv04 = 'DASIV04.csv'\n",
    "\n",
    "dasiv_name = dasiv01 # write the dataset name\n",
    "\n",
    "dasiv = f'production_datasets\\{dasiv_name}' # dataset path\n",
    "\n",
    "df = Data_Loader(dasiv).df # load the dataset\n",
    "df = Data_Preprocessing(df).df # preprocess the dataset\n",
    "df[:2]\n"
   ]
  },
  {
   "cell_type": "markdown",
   "metadata": {},
   "source": [
    "<h2>Saving the cleaned data as .csv</h2>"
   ]
  },
  {
   "cell_type": "code",
   "execution_count": 3,
   "metadata": {},
   "outputs": [],
   "source": [
    "# Specify the name of the file\n",
    "filename = f'cleaned_data_{dasiv_name}'\n",
    "\n",
    "save_data(df, filename)"
   ]
  },
  {
   "cell_type": "code",
   "execution_count": null,
   "metadata": {},
   "outputs": [],
   "source": []
  }
 ],
 "metadata": {
  "kernelspec": {
   "display_name": "tf",
   "language": "python",
   "name": "python3"
  },
  "language_info": {
   "codemirror_mode": {
    "name": "ipython",
    "version": 3
   },
   "file_extension": ".py",
   "mimetype": "text/x-python",
   "name": "python",
   "nbconvert_exporter": "python",
   "pygments_lexer": "ipython3",
   "version": "3.10.11"
  }
 },
 "nbformat": 4,
 "nbformat_minor": 2
}
