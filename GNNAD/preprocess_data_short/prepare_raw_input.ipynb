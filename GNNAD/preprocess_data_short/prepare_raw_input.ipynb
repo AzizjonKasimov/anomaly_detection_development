{
 "cells": [
  {
   "cell_type": "code",
   "execution_count": 7,
   "metadata": {},
   "outputs": [],
   "source": [
    "import pandas as pd"
   ]
  },
  {
   "cell_type": "markdown",
   "metadata": {},
   "source": [
    "## Load data"
   ]
  },
  {
   "cell_type": "code",
   "execution_count": 8,
   "metadata": {},
   "outputs": [],
   "source": [
    "try:\n",
    "    df_loaded\n",
    "except NameError: # read in training data\n",
    "    # read in test data\n",
    "    df_loaded = pd.read_csv('production_datasets\\DASIV04.csv')\n",
    "    \n",
    "df = df_loaded.copy()"
   ]
  },
  {
   "cell_type": "code",
   "execution_count": 9,
   "metadata": {},
   "outputs": [],
   "source": [
    "def select_columns(df):\n",
    "    columns_to_select = ['TIMESTAMP', 'A_R', 'A_S', 'A_T', 'A_PV', 'KW', \n",
    "        'SOLAR_H', 'SOLAR_V', 'T_M', 'T_O', 'V_PV', 'V_LL_RS', 'V_LL_ST', 'V_LL_TR', 'W_PV'\n",
    "    ]\n",
    "    \n",
    "    # Check if all required columns are present in the DataFrame\n",
    "    missing_columns = set(columns_to_select) - set(df.columns)\n",
    "    if missing_columns:\n",
    "        raise ValueError(f\"The following columns are missing from the DataFrame: {missing_columns}\")\n",
    "    \n",
    "    # Select only the specified columns\n",
    "    selected_df = df[columns_to_select]\n",
    "    \n",
    "    return selected_df\n",
    "\n",
    "df = select_columns(df)"
   ]
  },
  {
   "cell_type": "code",
   "execution_count": 10,
   "metadata": {},
   "outputs": [],
   "source": [
    "json_data = df.to_json(orient='records', date_format='iso')\n",
    "\n",
    "with open('train_data.json', 'w') as file:\n",
    "    file.write(json_data)"
   ]
  }
 ],
 "metadata": {
  "kernelspec": {
   "display_name": ".venv",
   "language": "python",
   "name": "python3"
  },
  "language_info": {
   "codemirror_mode": {
    "name": "ipython",
    "version": 3
   },
   "file_extension": ".py",
   "mimetype": "text/x-python",
   "name": "python",
   "nbconvert_exporter": "python",
   "pygments_lexer": "ipython3",
   "version": "3.10.11"
  }
 },
 "nbformat": 4,
 "nbformat_minor": 2
}
